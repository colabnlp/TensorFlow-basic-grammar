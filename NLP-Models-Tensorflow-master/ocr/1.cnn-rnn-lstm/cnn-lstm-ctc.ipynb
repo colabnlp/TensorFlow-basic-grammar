{
 "cells": [
  {
   "cell_type": "code",
   "execution_count": 1,
   "metadata": {},
   "outputs": [],
   "source": [
    "import numpy as np\n",
    "import os\n",
    "import tensorflow as tf\n",
    "import matplotlib.pyplot as plt\n",
    "from scipy.misc import imresize\n",
    "import cv2\n",
    "import time"
   ]
  },
  {
   "cell_type": "code",
   "execution_count": 2,
   "metadata": {},
   "outputs": [
    {
     "data": {
      "text/plain": [
       "30"
      ]
     },
     "execution_count": 2,
     "metadata": {},
     "output_type": "execute_result"
    }
   ],
   "source": [
    "directory = 'image_contest_level_1/'\n",
    "images = [i for i in os.listdir(directory) if i.find('labels')<0]\n",
    "images.sort()\n",
    "with open(directory+'labels.txt','r') as fopen:\n",
    "    labels = [i.split()[0] for i in list(filter(None,fopen.read().split('\\n')))]\n",
    "images = images[:30]\n",
    "labels = labels[:30]\n",
    "len(images)\n",
    "len(labels)"
   ]
  },
  {
   "cell_type": "code",
   "execution_count": 3,
   "metadata": {},
   "outputs": [
    {
     "data": {
      "image/png": "[encoded data removed]",
      "text/plain": [
       "<matplotlib.figure.Figure at 0x7f16cd7eef98>"
      ]
     },
     "metadata": {},
     "output_type": "display_data"
    }
   ],
   "source": [
    "plt.imshow(cv2.imread(directory+images[0], 0).astype(np.float32)/255.)\n",
    "plt.title(labels[0])\n",
    "plt.show()"
   ]
  },
  {
   "cell_type": "code",
   "execution_count": 4,
   "metadata": {},
   "outputs": [],
   "source": [
    "charset = '0123456789+-*()'\n",
    "num_classes = len(charset) + 2\n",
    "encode_maps = {}\n",
    "decode_maps = {}\n",
    "for i, char in enumerate(charset, 1):\n",
    "    encode_maps[char] = i\n",
    "    decode_maps[i] = char\n",
    "\n",
    "SPACE_INDEX = 0\n",
    "SPACE_TOKEN = ''\n",
    "encode_maps[SPACE_TOKEN] = SPACE_INDEX\n",
    "decode_maps[SPACE_INDEX] = SPACE_TOKEN"
   ]
  },
  {
   "cell_type": "code",
   "execution_count": 5,
   "metadata": {},
   "outputs": [
    {
     "data": {
      "text/plain": [
       "[14, 5, 13, 9, 15, 11, 9]"
      ]
     },
     "execution_count": 5,
     "metadata": {},
     "output_type": "execute_result"
    }
   ],
   "source": [
    "[SPACE_INDEX if labels[0] == SPACE_TOKEN else encode_maps[c] for c in labels[0]]"
   ]
  },
  {
   "cell_type": "code",
   "execution_count": 6,
   "metadata": {},
   "outputs": [],
   "source": [
    "image_height = 60\n",
    "image_width = 180\n",
    "image_channel = 1\n",
    "max_stepsize = 64\n",
    "num_hidden = 128\n",
    "epoch = 500\n",
    "batch_size = 10\n",
    "initial_learning_rate = 1e-2"
   ]
  },
  {
   "cell_type": "code",
   "execution_count": 7,
   "metadata": {},
   "outputs": [],
   "source": [
    "class Model:\n",
    "    def __init__(self):\n",
    "        self.X = tf.placeholder(tf.float32, [None, image_height, image_width, image_channel])\n",
    "        self.Y = tf.sparse_placeholder(tf.int32)\n",
    "        self.SEQ_LEN = tf.placeholder(tf.int32, [None])\n",
    "        filters = [64, 128, 128, max_stepsize]\n",
    "        strides = [1, 2]\n",
    "        x = self.conv2d(self.X, 'cnn-1', 3, 1, filters[0], strides[0])\n",
    "        x = self.batch_norm('bn1', x)\n",
    "        x = self.leaky_relu(x, 0.01)\n",
    "        x = self.max_pool(x, 2, strides[1])\n",
    "        x = self.conv2d(x, 'cnn-2', 3, filters[0], filters[1], strides[0])\n",
    "        x = self.batch_norm('bn2', x)\n",
    "        x = self.leaky_relu(x, 0.01)\n",
    "        x = self.max_pool(x, 2, strides[1])\n",
    "        x = self.conv2d(x, 'cnn-3', 3, filters[1], filters[2], strides[0])\n",
    "        x = self.batch_norm('bn3', x)\n",
    "        x = self.leaky_relu(x, 0.01)\n",
    "        x = self.max_pool(x, 2, strides[1])\n",
    "        x = self.conv2d(x, 'cnn-4', 3, filters[2], filters[3], strides[0])\n",
    "        x = self.batch_norm('bn4', x)\n",
    "        x = self.leaky_relu(x, 0.01)\n",
    "        x = self.max_pool(x, 2, strides[1])\n",
    "        x = tf.reshape(x, [batch_size, -1, filters[3]])\n",
    "        x = tf.transpose(x, [0, 2, 1])\n",
    "        x.set_shape([batch_size, filters[3], 48])\n",
    "        cell = tf.contrib.rnn.LSTMCell(num_hidden, state_is_tuple=True)\n",
    "        cell = tf.contrib.rnn.DropoutWrapper(cell=cell, output_keep_prob=0.8)\n",
    "        cell1 = tf.contrib.rnn.LSTMCell(num_hidden, state_is_tuple=True)\n",
    "        cell1 = tf.contrib.rnn.DropoutWrapper(cell=cell1, output_keep_prob=0.8)\n",
    "        stack = tf.contrib.rnn.MultiRNNCell([cell, cell1], state_is_tuple=True)\n",
    "        outputs, _ = tf.nn.dynamic_rnn(stack, x, self.SEQ_LEN, dtype=tf.float32)\n",
    "        outputs = tf.reshape(outputs, [-1, num_hidden])\n",
    "        W = tf.get_variable(name='W',\n",
    "                            shape=[num_hidden, num_classes],\n",
    "                            dtype=tf.float32,\n",
    "                            initializer=tf.contrib.layers.xavier_initializer())\n",
    "        b = tf.get_variable(name='b',\n",
    "                            shape=[num_classes],\n",
    "                            dtype=tf.float32,\n",
    "                            initializer=tf.constant_initializer())\n",
    "        self.logits = tf.matmul(outputs, W) + b\n",
    "        shape = tf.shape(x)\n",
    "        self.logits = tf.reshape(self.logits, [shape[0], -1, num_classes])\n",
    "        self.logits = tf.transpose(self.logits, (1, 0, 2))\n",
    "        self.global_step = tf.Variable(0, trainable=False)\n",
    "        self.loss = tf.nn.ctc_loss(labels=self.Y,\n",
    "                                   inputs=self.logits,\n",
    "                                   sequence_length=self.SEQ_LEN)\n",
    "        self.cost = tf.reduce_mean(self.loss)\n",
    "        self.optimizer = tf.train.AdamOptimizer(learning_rate=initial_learning_rate).minimize(self.cost)\n",
    "        self.decoded, self.log_prob = tf.nn.ctc_beam_search_decoder(self.logits,\n",
    "                                                                    self.SEQ_LEN,\n",
    "                                                                    merge_repeated=False)\n",
    "        self.dense_decoded = tf.sparse_tensor_to_dense(self.decoded[0], default_value=-1)\n",
    "        \n",
    "        \n",
    "    def conv2d(self, x, name, filter_size, channel_in, channel_out, strides):\n",
    "        with tf.variable_scope(name):\n",
    "            kernel = tf.get_variable(name='W',\n",
    "                                     shape=[filter_size, filter_size, channel_in, channel_out],\n",
    "                                     dtype=tf.float32,\n",
    "                                     initializer=tf.contrib.layers.xavier_initializer())\n",
    "            b = tf.get_variable(name='b',\n",
    "                                shape=[channel_out,],\n",
    "                                dtype=tf.float32,\n",
    "                                initializer=tf.constant_initializer())\n",
    "            return tf.nn.conv2d(x, kernel, [1, strides, strides, 1], padding='SAME') + b\n",
    "    \n",
    "    def batch_norm(self, name, x):\n",
    "        with tf.variable_scope(name):\n",
    "            params_shape = [x.get_shape()[-1]]\n",
    "            beta = tf.get_variable('beta', params_shape, tf.float32,\n",
    "                                   initializer=tf.constant_initializer(0.0, tf.float32))\n",
    "            gamma = tf.get_variable('gamma', params_shape, tf.float32,\n",
    "                                    initializer=tf.constant_initializer(1.0, tf.float32))\n",
    "            mean, variance = tf.nn.moments(x, [0, 1, 2], name='moments')\n",
    "            x_bn = tf.nn.batch_normalization(x, mean, variance, beta, gamma, 0.001)\n",
    "            x_bn.set_shape(x.get_shape())\n",
    "            return x_bn\n",
    "        \n",
    "    def leaky_relu(self, x, leak=0):\n",
    "        return tf.where(tf.less(x, 0.0), leak * x, x, name='leaky_relu')\n",
    "    \n",
    "    def max_pool(self, x, size, strides):\n",
    "        return tf.nn.max_pool(x, \n",
    "                              ksize=[1, size, size, 1],\n",
    "                              strides=[1, strides, strides, 1],\n",
    "                              padding='SAME',\n",
    "                              name='max_pool')"
   ]
  },
  {
   "cell_type": "code",
   "execution_count": 8,
   "metadata": {},
   "outputs": [],
   "source": [
    "def accuracy_calculation(original_seq, decoded_seq, ignore_value=-1):\n",
    "    count = 0\n",
    "    for i, origin_label in enumerate(original_seq):\n",
    "        decoded_label = [j for j in decoded_seq[i] if j != ignore_value]\n",
    "        if origin_label == decoded_label:\n",
    "            count += 1\n",
    "    return count * 1.0 / len(original_seq)\n",
    "\n",
    "def sparse_tuple_from_label(sequences, dtype=np.int32):\n",
    "    indices, values = [], []\n",
    "    for n, seq in enumerate(sequences):\n",
    "        indices.extend(zip([n] * len(seq), range(len(seq))))\n",
    "        values.extend(seq)\n",
    "    indices = np.asarray(indices, dtype=np.int64)\n",
    "    values = np.asarray(values, dtype=dtype)\n",
    "    shape = np.asarray([len(sequences), np.asarray(indices).max(0)[1] + 1], dtype=np.int64)\n",
    "    return indices, values, shape"
   ]
  },
  {
   "cell_type": "code",
   "execution_count": 9,
   "metadata": {},
   "outputs": [],
   "source": [
    "tf.reset_default_graph()\n",
    "sess = tf.InteractiveSession()\n",
    "model = Model()\n",
    "sess.run(tf.global_variables_initializer())"
   ]
  },
  {
   "cell_type": "code",
   "execution_count": 10,
   "metadata": {},
   "outputs": [
    {
     "name": "stdout",
     "output_type": "stream",
     "text": [
      "epoch 100, avg loss 2.157805, avg acc 0.400000, time taken 0.350654 s\n",
      "epoch 200, avg loss 0.076817, avg acc 1.000000, time taken 0.347520 s\n",
      "epoch 300, avg loss 0.027402, avg acc 1.000000, time taken 0.349331 s\n",
      "epoch 400, avg loss 0.022630, avg acc 1.000000, time taken 0.344544 s\n",
      "epoch 500, avg loss 0.182347, avg acc 0.933333, time taken 0.345036 s\n"
     ]
    }
   ],
   "source": [
    "for i in range(epoch):\n",
    "    total_lost, total_acc = 0, 0\n",
    "    last_time = time.time()\n",
    "    for k in range(0, (len(images)//batch_size)*batch_size, batch_size):\n",
    "        batch_x = np.zeros((batch_size,image_height, image_width, image_channel))\n",
    "        batch_label = []\n",
    "        for n in range(batch_size):\n",
    "            batch_x[n] = (cv2.imread(directory+images[k+n], 0).astype(np.float32)/255.).reshape((60,180,1))\n",
    "            batch_label.append([SPACE_INDEX if labels[0] == SPACE_TOKEN else encode_maps[c] for c in labels[k+n]])\n",
    "        batch_len = np.asarray([max_stepsize for _ in [1]*batch_size], dtype=np.int64)\n",
    "        batch_y = sparse_tuple_from_label(batch_label)\n",
    "        feed = {model.X: batch_x,\n",
    "                model.Y: batch_y,\n",
    "                model.SEQ_LEN: batch_len}\n",
    "        decoded, loss, _ = sess.run([model.dense_decoded,model.cost,model.optimizer],\n",
    "                                    feed_dict = feed)\n",
    "        acc = accuracy_calculation(batch_label, decoded,ignore_value=-1)\n",
    "        total_lost += loss\n",
    "        total_acc += acc\n",
    "    total_lost /= (len(images)//batch_size)\n",
    "    total_acc /= (len(images)//batch_size)\n",
    "    if (i+1) % 100 == 0:\n",
    "        print('epoch %d, avg loss %f, avg acc %f, time taken %f s'%(i+1,total_lost,total_acc,time.time()-last_time))"
   ]
  },
  {
   "cell_type": "code",
   "execution_count": 21,
   "metadata": {},
   "outputs": [
    {
     "data": {
      "image/png": "[encoded data removed]",
      "text/plain": [
       "<matplotlib.figure.Figure at 0x7f16993c2f98>"
      ]
     },
     "metadata": {},
     "output_type": "display_data"
    }
   ],
   "source": [
    "batch_x = np.zeros((batch_size,image_height, image_width, image_channel))\n",
    "for n in range(batch_size):\n",
    "    batch_x[n] = (cv2.imread(directory+images[n], 0).astype(np.float32)/255.).reshape((60,180,1))\n",
    "batch_len = np.asarray([max_stepsize for _ in [1]*batch_size], dtype=np.int64)\n",
    "decoded = sess.run(model.dense_decoded, feed_dict = {model.X:batch_x,model.SEQ_LEN:batch_len})\n",
    "plt.imshow(cv2.imread(directory+images[0], 0).astype(np.float32)/255.)\n",
    "plt.title(''.join([decode_maps[i] for i in decoded[0]]))\n",
    "plt.show()"
   ]
  }
 ],
 "metadata": {
  "kernelspec": {
   "display_name": "Python 3",
   "language": "python",
   "name": "python3"
  },
  "language_info": {
   "codemirror_mode": {
    "name": "ipython",
    "version": 3
   },
   "file_extension": ".py",
   "mimetype": "text/x-python",
   "name": "python",
   "nbconvert_exporter": "python",
   "pygments_lexer": "ipython3",
   "version": "3.5.2"
  }
 },
 "nbformat": 4,
 "nbformat_minor": 2
}
